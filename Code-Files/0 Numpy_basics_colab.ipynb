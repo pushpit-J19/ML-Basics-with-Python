{
  "nbformat": 4,
  "nbformat_minor": 0,
  "metadata": {
    "colab": {
      "name": "Numpy.ipynb",
      "provenance": [],
      "collapsed_sections": []
    },
    "kernelspec": {
      "name": "python3",
      "display_name": "Python 3"
    },
    "language_info": {
      "name": "python"
    },
    "accelerator": "GPU"
  },
  "cells": [
    {
      "cell_type": "markdown",
      "metadata": {
        "id": "MrD-k8r5uqQP"
      },
      "source": [
        "# Numpy"
      ]
    },
    {
      "cell_type": "code",
      "metadata": {
        "id": "G87Ncxbautjw"
      },
      "source": [
        "import numpy as np"
      ],
      "execution_count": null,
      "outputs": []
    },
    {
      "cell_type": "code",
      "metadata": {
        "colab": {
          "base_uri": "https://localhost:8080/"
        },
        "id": "sVQ0wN36uv7s",
        "outputId": "4d6081af-7afd-480b-f17e-d639b474ca58"
      },
      "source": [
        "a = np.array(list(range(10)))\n",
        "a"
      ],
      "execution_count": null,
      "outputs": [
        {
          "output_type": "execute_result",
          "data": {
            "text/plain": [
              "array([0, 1, 2, 3, 4, 5, 6, 7, 8, 9])"
            ]
          },
          "metadata": {
            "tags": []
          },
          "execution_count": 3
        }
      ]
    },
    {
      "cell_type": "code",
      "metadata": {
        "colab": {
          "base_uri": "https://localhost:8080/"
        },
        "id": "ETO-BtLGvG-Z",
        "outputId": "41849e32-e102-4491-960a-e2c78b43d8c6"
      },
      "source": [
        "type(a)  \n",
        "# n dimensional array"
      ],
      "execution_count": null,
      "outputs": [
        {
          "output_type": "execute_result",
          "data": {
            "text/plain": [
              "numpy.ndarray"
            ]
          },
          "metadata": {
            "tags": []
          },
          "execution_count": 4
        }
      ]
    },
    {
      "cell_type": "code",
      "metadata": {
        "colab": {
          "base_uri": "https://localhost:8080/"
        },
        "id": "o2Cv4kMRvNpH",
        "outputId": "6a4df571-3748-48f5-f827-6a8c2a12982e"
      },
      "source": [
        "# increament every element by 5\n",
        "# doesnt update the original\n",
        "a + 5"
      ],
      "execution_count": null,
      "outputs": [
        {
          "output_type": "execute_result",
          "data": {
            "text/plain": [
              "array([ 5,  6,  7,  8,  9, 10, 11, 12, 13, 14])"
            ]
          },
          "metadata": {
            "tags": []
          },
          "execution_count": 5
        }
      ]
    },
    {
      "cell_type": "code",
      "metadata": {
        "colab": {
          "base_uri": "https://localhost:8080/"
        },
        "id": "ZiEMl2j9vo8B",
        "outputId": "a2194185-fd4e-4b59-a569-126ff9fea105"
      },
      "source": [
        "# saving the updated in a new one\n",
        "b = a-5\n",
        "print(b, type(b))\n",
        "\n",
        "# can do any + - * / ** //"
      ],
      "execution_count": null,
      "outputs": [
        {
          "output_type": "stream",
          "text": [
            "[-5 -4 -3 -2 -1  0  1  2  3  4] <class 'numpy.ndarray'>\n"
          ],
          "name": "stdout"
        }
      ]
    },
    {
      "cell_type": "code",
      "metadata": {
        "colab": {
          "base_uri": "https://localhost:8080/"
        },
        "id": "ymsbWmVbwiEF",
        "outputId": "b29301de-a782-42a3-b8f9-eb37f1d1c478"
      },
      "source": [
        "# attribute to get dimensions and size\n",
        "b.shape"
      ],
      "execution_count": null,
      "outputs": [
        {
          "output_type": "execute_result",
          "data": {
            "text/plain": [
              "(10,)"
            ]
          },
          "metadata": {
            "tags": []
          },
          "execution_count": 12
        }
      ]
    },
    {
      "cell_type": "code",
      "metadata": {
        "colab": {
          "base_uri": "https://localhost:8080/"
        },
        "id": "OSTHTJQJwu5g",
        "outputId": "8b77283d-9104-4c90-ea20-837f94a77095"
      },
      "source": [
        "# changing shape\n",
        "b = b.reshape((-1,1))\n",
        "# first arg is a tuple defining shape, -1 is no change in prev value of 10, \n",
        "# 1 is 1 column\n",
        "\n",
        "# next arg is order \n",
        "print(b)\n",
        "b.shape"
      ],
      "execution_count": null,
      "outputs": [
        {
          "output_type": "stream",
          "text": [
            "[[ 5]\n",
            " [ 6]\n",
            " [ 7]\n",
            " [ 8]\n",
            " [ 9]\n",
            " [10]\n",
            " [11]\n",
            " [12]\n",
            " [13]\n",
            " [14]]\n"
          ],
          "name": "stdout"
        },
        {
          "output_type": "execute_result",
          "data": {
            "text/plain": [
              "(10, 1)"
            ]
          },
          "metadata": {
            "tags": []
          },
          "execution_count": 15
        }
      ]
    },
    {
      "cell_type": "markdown",
      "metadata": {
        "id": "fnWWIEF4wO1X"
      },
      "source": [
        "## Array operations"
      ]
    },
    {
      "cell_type": "code",
      "metadata": {
        "id": "1fb2Cwjuv6p7"
      },
      "source": [
        "b = a+5\n",
        "c = a - 10\n"
      ],
      "execution_count": null,
      "outputs": []
    },
    {
      "cell_type": "code",
      "metadata": {
        "colab": {
          "base_uri": "https://localhost:8080/"
        },
        "id": "Er0loB6_xnyK",
        "outputId": "3bd74324-66aa-4015-e5a1-a671e3351673"
      },
      "source": [
        "# simply add corresponding elements\n",
        "print(a, b)\n",
        "a+b\n",
        "# can do any of the arithmatic operations"
      ],
      "execution_count": null,
      "outputs": [
        {
          "output_type": "stream",
          "text": [
            "[0 1 2 3 4 5 6 7 8 9] [ 5  6  7  8  9 10 11 12 13 14]\n"
          ],
          "name": "stdout"
        },
        {
          "output_type": "execute_result",
          "data": {
            "text/plain": [
              "array([ 5,  7,  9, 11, 13, 15, 17, 19, 21, 23])"
            ]
          },
          "metadata": {
            "tags": []
          },
          "execution_count": 22
        }
      ]
    },
    {
      "cell_type": "code",
      "metadata": {
        "colab": {
          "base_uri": "https://localhost:8080/",
          "height": 204
        },
        "id": "nJ678Bd_yHd-",
        "outputId": "f2d17be4-e437-4b49-ec13-ff29fdb09272"
      },
      "source": [
        "# wont do if len not same\n",
        "t1 = np.array(list(range(4)))\n",
        "t2 = np.array(list(range(3)))\n",
        "# t1*t2\n",
        "# ValueError: operands could not be broadcast together with shapes (4,) (3,) "
      ],
      "execution_count": null,
      "outputs": [
        {
          "output_type": "error",
          "ename": "ValueError",
          "evalue": "ignored",
          "traceback": [
            "\u001b[0;31m---------------------------------------------------------------------------\u001b[0m",
            "\u001b[0;31mValueError\u001b[0m                                Traceback (most recent call last)",
            "\u001b[0;32m<ipython-input-23-149a7af58b09>\u001b[0m in \u001b[0;36m<module>\u001b[0;34m()\u001b[0m\n\u001b[1;32m      2\u001b[0m \u001b[0mt1\u001b[0m \u001b[0;34m=\u001b[0m \u001b[0mnp\u001b[0m\u001b[0;34m.\u001b[0m\u001b[0marray\u001b[0m\u001b[0;34m(\u001b[0m\u001b[0mlist\u001b[0m\u001b[0;34m(\u001b[0m\u001b[0mrange\u001b[0m\u001b[0;34m(\u001b[0m\u001b[0;36m4\u001b[0m\u001b[0;34m)\u001b[0m\u001b[0;34m)\u001b[0m\u001b[0;34m)\u001b[0m\u001b[0;34m\u001b[0m\u001b[0;34m\u001b[0m\u001b[0m\n\u001b[1;32m      3\u001b[0m \u001b[0mt2\u001b[0m \u001b[0;34m=\u001b[0m \u001b[0mnp\u001b[0m\u001b[0;34m.\u001b[0m\u001b[0marray\u001b[0m\u001b[0;34m(\u001b[0m\u001b[0mlist\u001b[0m\u001b[0;34m(\u001b[0m\u001b[0mrange\u001b[0m\u001b[0;34m(\u001b[0m\u001b[0;36m3\u001b[0m\u001b[0;34m)\u001b[0m\u001b[0;34m)\u001b[0m\u001b[0;34m)\u001b[0m\u001b[0;34m\u001b[0m\u001b[0;34m\u001b[0m\u001b[0m\n\u001b[0;32m----> 4\u001b[0;31m \u001b[0mt1\u001b[0m\u001b[0;34m*\u001b[0m\u001b[0mt2\u001b[0m\u001b[0;34m\u001b[0m\u001b[0;34m\u001b[0m\u001b[0m\n\u001b[0m",
            "\u001b[0;31mValueError\u001b[0m: operands could not be broadcast together with shapes (4,) (3,) "
          ]
        }
      ]
    },
    {
      "cell_type": "code",
      "metadata": {
        "id": "rJnm1Dd-ydr1"
      },
      "source": [
        "t1 = (a+5).reshape((-1,1))\n",
        "print(a, t1)\n",
        "a+t1"
      ],
      "execution_count": null,
      "outputs": []
    },
    {
      "cell_type": "code",
      "metadata": {
        "colab": {
          "base_uri": "https://localhost:8080/"
        },
        "id": "pf0aq-mjzItt",
        "outputId": "cf85f725-a789-405a-9cdb-912b86ab88b5"
      },
      "source": [
        "d = np.array([[1,2,3],[4,5,6]])\n",
        "print(d.shape)\n",
        "d.reshape((3,2))\n",
        "d.shape"
      ],
      "execution_count": null,
      "outputs": [
        {
          "output_type": "stream",
          "text": [
            "(2, 3)\n"
          ],
          "name": "stdout"
        },
        {
          "output_type": "execute_result",
          "data": {
            "text/plain": [
              "(2, 3)"
            ]
          },
          "metadata": {
            "tags": []
          },
          "execution_count": 32
        }
      ]
    },
    {
      "cell_type": "markdown",
      "metadata": {
        "id": "JYR4bcFlztHm"
      },
      "source": [
        "## Functions of Numpy"
      ]
    },
    {
      "cell_type": "code",
      "metadata": {
        "colab": {
          "base_uri": "https://localhost:8080/"
        },
        "id": "HAYuj7k9zvnd",
        "outputId": "b4caf016-615e-4ffa-d37a-9c3209950dfe"
      },
      "source": [
        "# matrix of all 0\n",
        "\n",
        "# a = np.zeros((3,4))\n",
        "a = np.zeros((3,4), dtype=int)    # can also use \"int\"\n",
        "a\n",
        "# by default dtype is float"
      ],
      "execution_count": null,
      "outputs": [
        {
          "output_type": "execute_result",
          "data": {
            "text/plain": [
              "array([[0, 0, 0, 0],\n",
              "       [0, 0, 0, 0],\n",
              "       [0, 0, 0, 0]])"
            ]
          },
          "metadata": {
            "tags": []
          },
          "execution_count": 34
        }
      ]
    },
    {
      "cell_type": "code",
      "metadata": {
        "colab": {
          "base_uri": "https://localhost:8080/"
        },
        "id": "7qHwKCPo0C87",
        "outputId": "b57d76ea-4520-4282-b565-0795463a5e9a"
      },
      "source": [
        "e = np.zeros((3,3,3))\n",
        "e"
      ],
      "execution_count": null,
      "outputs": [
        {
          "output_type": "execute_result",
          "data": {
            "text/plain": [
              "array([[[0., 0., 0.],\n",
              "        [0., 0., 0.],\n",
              "        [0., 0., 0.]],\n",
              "\n",
              "       [[0., 0., 0.],\n",
              "        [0., 0., 0.],\n",
              "        [0., 0., 0.]],\n",
              "\n",
              "       [[0., 0., 0.],\n",
              "        [0., 0., 0.],\n",
              "        [0., 0., 0.]]])"
            ]
          },
          "metadata": {
            "tags": []
          },
          "execution_count": 37
        }
      ]
    },
    {
      "cell_type": "code",
      "metadata": {
        "colab": {
          "base_uri": "https://localhost:8080/"
        },
        "id": "4QJYXXL_0UTe",
        "outputId": "2e1f7272-9508-494c-ff73-cca45a867210"
      },
      "source": [
        "# matrix of all values 1\n",
        "a = np.ones((2,2))\n",
        "a"
      ],
      "execution_count": null,
      "outputs": [
        {
          "output_type": "execute_result",
          "data": {
            "text/plain": [
              "array([[1., 1.],\n",
              "       [1., 1.]])"
            ]
          },
          "metadata": {
            "tags": []
          },
          "execution_count": 39
        }
      ]
    },
    {
      "cell_type": "code",
      "metadata": {
        "colab": {
          "base_uri": "https://localhost:8080/"
        },
        "id": "IrCPm3500r2C",
        "outputId": "1554eebd-512a-42f7-c21d-36ec0d557aa1"
      },
      "source": [
        "# identity matrix \n",
        "i = np.identity(4, dtype=int)\n",
        "i"
      ],
      "execution_count": null,
      "outputs": [
        {
          "output_type": "execute_result",
          "data": {
            "text/plain": [
              "array([[1, 0, 0, 0],\n",
              "       [0, 1, 0, 0],\n",
              "       [0, 0, 1, 0],\n",
              "       [0, 0, 0, 1]])"
            ]
          },
          "metadata": {
            "tags": []
          },
          "execution_count": 40
        }
      ]
    },
    {
      "cell_type": "code",
      "metadata": {
        "colab": {
          "base_uri": "https://localhost:8080/"
        },
        "id": "dHItNykE1HdC",
        "outputId": "346b9178-51ec-4d25-fc11-913c29872f29"
      },
      "source": [
        "f = np.ones((4,3), dtype=int)*5\n",
        "f = np.zeros((4,3), dtype=int)+5\n",
        "f"
      ],
      "execution_count": null,
      "outputs": [
        {
          "output_type": "execute_result",
          "data": {
            "text/plain": [
              "array([[5, 5, 5],\n",
              "       [5, 5, 5],\n",
              "       [5, 5, 5],\n",
              "       [5, 5, 5]])"
            ]
          },
          "metadata": {
            "tags": []
          },
          "execution_count": 44
        }
      ]
    },
    {
      "cell_type": "markdown",
      "metadata": {
        "id": "Z7N0EtMW1eHn"
      },
      "source": [
        "## Random functions"
      ]
    },
    {
      "cell_type": "code",
      "metadata": {
        "colab": {
          "base_uri": "https://localhost:8080/"
        },
        "id": "XghhP0li1cBw",
        "outputId": "fc438eff-6a59-4626-e9bb-d87bcf462473"
      },
      "source": [
        "np.random.randint(1,10, (5,1))\n",
        "# randint(low, high=None, size=None, dtype=int)"
      ],
      "execution_count": null,
      "outputs": [
        {
          "output_type": "execute_result",
          "data": {
            "text/plain": [
              "array([[1],\n",
              "       [1],\n",
              "       [9],\n",
              "       [3],\n",
              "       [4]])"
            ]
          },
          "metadata": {
            "tags": []
          },
          "execution_count": 49
        }
      ]
    },
    {
      "cell_type": "code",
      "metadata": {
        "colab": {
          "base_uri": "https://localhost:8080/"
        },
        "id": "9Wmw6nwv170V",
        "outputId": "f74771f6-c8b5-45ea-e651-16f497d17693"
      },
      "source": [
        "a = np.random.randint(1,10, (3,5))\n",
        "a"
      ],
      "execution_count": null,
      "outputs": [
        {
          "output_type": "execute_result",
          "data": {
            "text/plain": [
              "array([[8, 9, 5, 7, 5],\n",
              "       [8, 7, 2, 9, 6],\n",
              "       [2, 5, 3, 7, 1]])"
            ]
          },
          "metadata": {
            "tags": []
          },
          "execution_count": 51
        }
      ]
    },
    {
      "cell_type": "code",
      "metadata": {
        "colab": {
          "base_uri": "https://localhost:8080/"
        },
        "id": "QLOOrKHt2Ivu",
        "outputId": "ad22d5dc-24fc-45e0-833e-40140fe1b136"
      },
      "source": [
        "# slicing\n",
        "print(a.shape)\n",
        "print(a[ 1: , :3 ])  # rs:re, cs:ce row column start end"
      ],
      "execution_count": null,
      "outputs": [
        {
          "output_type": "stream",
          "text": [
            "(3, 5)\n",
            "[[8 7 2]\n",
            " [2 5 3]]\n"
          ],
          "name": "stdout"
        }
      ]
    },
    {
      "cell_type": "markdown",
      "metadata": {
        "id": "dzKC_b1E2lDB"
      },
      "source": [
        "## More functions\n",
        "\n",
        "min, max\n",
        "mean, variance, sd"
      ]
    },
    {
      "cell_type": "code",
      "metadata": {
        "colab": {
          "base_uri": "https://localhost:8080/"
        },
        "id": "O8lJ0qNQ2q4e",
        "outputId": "c7349e44-80fd-4cf6-e3f8-c38d6e11a161"
      },
      "source": [
        "a = np.array([[1,3],[4,2]])\n",
        "a"
      ],
      "execution_count": null,
      "outputs": [
        {
          "output_type": "execute_result",
          "data": {
            "text/plain": [
              "array([[1, 3],\n",
              "       [4, 2]])"
            ]
          },
          "metadata": {
            "tags": []
          },
          "execution_count": 4
        }
      ]
    },
    {
      "cell_type": "code",
      "metadata": {
        "colab": {
          "base_uri": "https://localhost:8080/"
        },
        "id": "PywjLaHB2i1z",
        "outputId": "4a9aa5e3-7a7f-46f6-e2aa-422af3594717"
      },
      "source": [
        "\n",
        "print (a.min())\n",
        "print (a.max())\n",
        "print (np.min(a))\n",
        "print (np.max(a))"
      ],
      "execution_count": null,
      "outputs": [
        {
          "output_type": "stream",
          "text": [
            "1\n",
            "4\n",
            "1\n",
            "4\n"
          ],
          "name": "stdout"
        }
      ]
    },
    {
      "cell_type": "code",
      "metadata": {
        "colab": {
          "base_uri": "https://localhost:8080/"
        },
        "id": "Ak7I0EiV29hZ",
        "outputId": "2117ba0a-1770-4a59-c6ea-5c0f6d0bc0cd"
      },
      "source": [
        "print( np.std(a) )\n",
        "print( np.std(a , axis = 0) )\n",
        "# axis 0 is row wise, so std of every row individually\n",
        "print( np.std(a , axis = 1) )\n",
        "# column wise so basically the nth dimension"
      ],
      "execution_count": null,
      "outputs": [
        {
          "output_type": "stream",
          "text": [
            "1.118033988749895\n",
            "[1.5 0.5]\n",
            "[1. 1.]\n"
          ],
          "name": "stdout"
        }
      ]
    },
    {
      "cell_type": "code",
      "metadata": {
        "id": "C2zNpXCm3W_x",
        "colab": {
          "base_uri": "https://localhost:8080/"
        },
        "outputId": "dbcbf6ff-9894-4839-db8a-3e20d394d57f"
      },
      "source": [
        "print(np.var(a))\n",
        "print(np.var(a, 0))\n",
        "print(np.var(a, 1))"
      ],
      "execution_count": null,
      "outputs": [
        {
          "output_type": "stream",
          "text": [
            "1.25\n",
            "[2.25 0.25]\n",
            "[1. 1.]\n"
          ],
          "name": "stdout"
        }
      ]
    },
    {
      "cell_type": "code",
      "metadata": {
        "id": "w8MfLsZ13dhe",
        "colab": {
          "base_uri": "https://localhost:8080/"
        },
        "outputId": "e0cff2fc-f017-41e4-e725-7b84a789a2b6"
      },
      "source": [
        "# same value because of seed\n",
        "for i in range (10):\n",
        "  np.random.seed(7)\n",
        "  print(np.random.randint(10))"
      ],
      "execution_count": null,
      "outputs": [
        {
          "output_type": "stream",
          "text": [
            "4\n",
            "4\n",
            "4\n",
            "4\n",
            "4\n",
            "4\n",
            "4\n",
            "4\n",
            "4\n",
            "4\n"
          ],
          "name": "stdout"
        }
      ]
    },
    {
      "cell_type": "code",
      "metadata": {
        "colab": {
          "base_uri": "https://localhost:8080/"
        },
        "id": "uUX5YJrS0PaJ",
        "outputId": "b03fd715-ecbf-421a-f271-b6feeaf39d70"
      },
      "source": [
        "#STACK\n",
        "\n",
        "a = np.array ([1,2,3])\n",
        "b = np.array([3,4,'a'])\n",
        "np.stack((a,b))\n",
        "\n",
        "# shape should be same data type as seen can be different\n",
        "# simply stacks up the args in tuple making a matrix"
      ],
      "execution_count": null,
      "outputs": [
        {
          "output_type": "execute_result",
          "data": {
            "text/plain": [
              "array([['1', '2', '3'],\n",
              "       ['3', '4', 'a']], dtype='<U21')"
            ]
          },
          "metadata": {
            "tags": []
          },
          "execution_count": 20
        }
      ]
    },
    {
      "cell_type": "markdown",
      "metadata": {
        "id": "QQf2H4NX1Fe2"
      },
      "source": [
        "Products"
      ]
    },
    {
      "cell_type": "code",
      "metadata": {
        "colab": {
          "base_uri": "https://localhost:8080/"
        },
        "id": "yb9DT7uI1Dec",
        "outputId": "f4ce17db-a00c-4474-8c97-21c930baf2c3"
      },
      "source": [
        "a = np.array ([1,2])\n",
        "b = np.array([3,4])\n",
        "\n",
        "\n",
        "# dot product\n",
        "print(np.dot(a,b))\n",
        "\n",
        "# vector/cartesian/cross \n",
        "print(np.cross(a,b))"
      ],
      "execution_count": null,
      "outputs": [
        {
          "output_type": "stream",
          "text": [
            "11\n",
            "-2\n"
          ],
          "name": "stdout"
        }
      ]
    },
    {
      "cell_type": "code",
      "metadata": {
        "colab": {
          "base_uri": "https://localhost:8080/"
        },
        "id": "Zxl-toYU2bkv",
        "outputId": "f95ee905-17d8-4824-8904-77d36dfe62fc"
      },
      "source": [
        "# Hackerrank question : Dot and Cross\n",
        "\n",
        "import numpy as np\n",
        "n = int(input())\n",
        "a = []\n",
        "for i in range(n):\n",
        "  a.append(list(map(int, input().split())))\n",
        "b = []\n",
        "for i in range(n):\n",
        "  b.append(list(map(int, input().split())))\n",
        "\n",
        "#a = np.array(a)\n",
        "#b = np.array(b)\n",
        "\n",
        "print(np.dot(a,b))\n"
      ],
      "execution_count": null,
      "outputs": [
        {
          "output_type": "stream",
          "text": [
            "2\n",
            "1 2\n",
            "3 4\n",
            "1 2\n",
            "3 4\n",
            "[[ 7 10]\n",
            " [15 22]]\n"
          ],
          "name": "stdout"
        }
      ]
    },
    {
      "cell_type": "code",
      "metadata": {
        "colab": {
          "base_uri": "https://localhost:8080/"
        },
        "id": "YApG1QW44nDJ",
        "outputId": "240c5732-90db-4dd6-fc7b-2b5eebf4f39c"
      },
      "source": [
        "# Hackerrank question : Mean, Var and Std\n",
        "\n",
        "import numpy as np\n",
        "\n",
        "n , m = list(map(int, input().split()))\n",
        "#l = [int(i) for i in input().strip().split()]\n",
        "arr = []\n",
        "for i in range (n):\n",
        "  arr.append(list(map(int, input().split())))\n",
        "\n",
        "np.set_printoptions(legacy=\"1.13\") \n",
        "# without this the format precision was a litt;e different\n",
        "print(np.mean(arr, axis = 1))\n",
        "print(np.var(arr, axis=0))\n",
        "print(np.std(arr))"
      ],
      "execution_count": null,
      "outputs": [
        {
          "output_type": "stream",
          "text": [
            "2 2\n",
            "1 2\n",
            "3 4\n",
            "[ 1.5  3.5]\n",
            "[ 1.  1.]\n",
            "1.11803398875\n"
          ],
          "name": "stdout"
        }
      ]
    },
    {
      "cell_type": "code",
      "metadata": {
        "colab": {
          "base_uri": "https://localhost:8080/"
        },
        "id": "pGPNMqe06-Bg",
        "outputId": "67e26bfe-ec13-4048-dc4d-ad6a05ca92c1"
      },
      "source": [
        "# Hackerrank question : Transpose and Flatten\n",
        "\n",
        "# TRANSPOSE : aji for aij\n",
        "# FLATTEN : [1,2],[3,4] = [1,2,3,4]\n",
        "\n",
        "import numpy as np\n",
        "n , m = list(map(int, input().split()))\n",
        "arr = []\n",
        "for i in range (n):\n",
        "  arr.append([int(i) for i in input().strip().split()])\n",
        "\n",
        "arr = np.array(arr)\n",
        "print(np.transpose(arr))\n",
        "print(arr.flatten())"
      ],
      "execution_count": null,
      "outputs": [
        {
          "output_type": "stream",
          "text": [
            "2 2\n",
            "1 2\n",
            "3 4\n",
            "[[1 3]\n",
            " [2 4]]\n",
            "[1 2 3 4]\n"
          ],
          "name": "stdout"
        }
      ]
    }
  ]
}